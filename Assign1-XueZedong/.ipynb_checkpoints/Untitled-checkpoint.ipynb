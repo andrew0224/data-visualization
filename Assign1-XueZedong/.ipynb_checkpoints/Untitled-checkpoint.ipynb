{
 "cells": [
  {
   "cell_type": "code",
   "execution_count": 156,
   "id": "dad01a6b",
   "metadata": {},
   "outputs": [
    {
     "name": "stdout",
     "output_type": "stream",
     "text": [
      "The most popular attraction to visit in the park is 'Ichthyoroberts Rapids''.\n",
      "The number of visiting is '25009'\n"
     ]
    }
   ],
   "source": [
    "import sqlite3\n",
    "db_filename = 'dinofunworld.db'\n",
    "conn = sqlite3.connect(db_filename)\n",
    "c = conn.cursor()\n",
    "\n",
    "cursor=c.execute(\"select attraction, name, count(visitorID) as cnt from checkin as ch, attraction as att where ch.type='actual' and ch.attraction=att.AttractionID group by ch.attraction order by cnt desc limit 1;\")\n",
    "for row in cursor:\n",
    "    print(\"The most popular attraction to visit in the park is '{0}''.\".format(row[1]))\n",
    "    print(\"The number of visiting is '{0}'\".format(row[2]))"
   ]
  },
  {
   "cell_type": "code",
   "execution_count": 157,
   "id": "6f56d70a",
   "metadata": {},
   "outputs": [
    {
     "name": "stdout",
     "output_type": "stream",
     "text": [
      "The ride 'TerrorSaur' has the longest visit time.\n",
      "Its average visit time is '2747.060654484819'\n"
     ]
    }
   ],
   "source": [
    "cursor2=c.execute(\"select ch.attraction,at.name,avg(substr(duration,0,2)*3600+substr(duration,3,2)*60+substr(duration,6,2)) as time from checkin as ch, attraction as at where ch.type='actual' and duration not NULL and ch.attraction=at.AttractionID and at.Category GLOB '*Rides*' group by ch.attraction order by time desc limit 1;\")\n",
    "for row in cursor2:\n",
    "    print(\"The ride '{0}' has the longest visit time.\".format(row[1]))\n",
    "    print(\"Its average visit time is '{0}' seconds\".format(row[2]))\n"
   ]
  },
  {
   "cell_type": "code",
   "execution_count": 158,
   "id": "2e006462",
   "metadata": {},
   "outputs": [
    {
     "name": "stdout",
     "output_type": "stream",
     "text": [
      "The Fast Food offering 'Theresaur Food Stop' has the fewest visitors.\n",
      "Its number of visitors is 1116.\n"
     ]
    }
   ],
   "source": [
    "cursor3=c.execute(\"select ch.type,count(visitorID) as cnt,att.name from checkin as ch,attraction as att where ch.attraction=att.AttractionID and att.type='Fast Food' group by att.AttractionID order by cnt limit 1;\")\n",
    "for row in cursor3:\n",
    "    print(\"The Fast Food offering '{0}' has the fewest visitors.\".format(row[2]))\n",
    "    print(\"Its number of visitors is {0}.\".format(row[1]))"
   ]
  },
  {
   "cell_type": "code",
   "execution_count": 159,
   "id": "f74515cf",
   "metadata": {},
   "outputs": [
    {
     "data": {
      "image/png": "[encoded data removed]",
      "text/plain": [
       "<Figure size 720x576 with 1 Axes>"
      ]
     },
     "metadata": {
      "needs_background": "light"
     },
     "output_type": "display_data"
    }
   ],
   "source": [
    "cursor4=c.execute(\"select count(timestamp) count,avg(substr(duration,0,2)*3600+substr(duration,3,2)*60+substr(duration,6,2)) duration,attraction,name from checkin as ch,attraction as att where ch.type='actual' and duration not NULL and ch.attraction=att.AttractionID and att.Category GLOB '*Rides*' group by ch.attraction order by duration desc,count desc;\")\n",
    "x_list=[]\n",
    "y_list=[]\n",
    "for row in cursor4:\n",
    "    x_list.append(row[0])\n",
    "    y_list.append(row[1])\n",
    "\n",
    "    \n",
    "from matplotlib.widgets import Cursor\n",
    "fig, ax = plt.subplots(figsize=(10, 8))\n",
    "ax.set_xlabel('X-Number of Visits')  # Add an x-label to the axes.\n",
    "ax.set_ylabel('Y-Average Duration')  # Add a y-label to the axes.\n",
    "ax.set_title(\"Skyline Plot of Visiting Number for each Attraction\")  # Add a title to the axes.\n",
    "\n",
    "x, y = np.array([x_list, y_list])\n",
    "\n",
    "ax.plot(x, y, 'o')\n",
    "ax.set_xlim(3000, 26000)\n",
    "ax.set_ylim(0,3000)\n",
    "\n",
    "# Set useblit=True on most backends for enhanced performance.\n",
    "cursor = Cursor(ax, useblit=True, color='RED', linewidth=5)\n",
    "xSquares = [3552,3751,3867,5577,18266]\n",
    "ySquares = [1815,633,298,203,113]\n",
    "plt.plot(xSquares, ySquares,linewidth=4)\n",
    "\n",
    "plt.show()"
   ]
  },
  {
   "cell_type": "code",
   "execution_count": null,
   "id": "2f9e77e3",
   "metadata": {},
   "outputs": [],
   "source": []
  },
  {
   "cell_type": "code",
   "execution_count": null,
   "id": "d85596ad",
   "metadata": {},
   "outputs": [],
   "source": []
  },
  {
   "cell_type": "code",
   "execution_count": null,
   "id": "4bffb0c4",
   "metadata": {},
   "outputs": [],
   "source": []
  },
  {
   "cell_type": "code",
   "execution_count": null,
   "id": "3edc66da",
   "metadata": {},
   "outputs": [],
   "source": []
  },
  {
   "cell_type": "code",
   "execution_count": null,
   "id": "993959bf",
   "metadata": {},
   "outputs": [],
   "source": []
  }
 ],
 "metadata": {
  "kernelspec": {
   "display_name": "Python 3",
   "language": "python",
   "name": "python3"
  },
  "language_info": {
   "codemirror_mode": {
    "name": "ipython",
    "version": 3
   },
   "file_extension": ".py",
   "mimetype": "text/x-python",
   "name": "python",
   "nbconvert_exporter": "python",
   "pygments_lexer": "ipython3",
   "version": "3.8.8"
  }
 },
 "nbformat": 4,
 "nbformat_minor": 5
}
